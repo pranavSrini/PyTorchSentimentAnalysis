{
  "nbformat": 4,
  "nbformat_minor": 0,
  "metadata": {
    "colab": {
      "name": "Sentiment Analysis.ipynb",
      "provenance": []
    },
    "kernelspec": {
      "name": "python3",
      "display_name": "Python 3"
    },
    "accelerator": "GPU"
  },
  "cells": [
    {
      "cell_type": "code",
      "metadata": {
        "id": "eXfrOQQRb-tW",
        "colab": {
          "base_uri": "https://localhost:8080/",
          "height": 862
        },
        "outputId": "1c382af0-d221-4e67-c5a1-0ebb59360215"
      },
      "source": [
        "import torch\n",
        "from torchtext import data\n",
        "from torchtext import datasets\n",
        "import torch.optim as optim\n",
        "import torch.nn as nn\n",
        "import matplotlib.pyplot as plt\n",
        "import numpy as np\n",
        "\n",
        "\n",
        "tokens = data.Field(tokenize = 'spacy', include_lengths= True)\n",
        "\n",
        "LABEL = data.LabelField(dtype = torch.float)\n",
        "\n",
        "train_data, test_data = datasets.IMDB.splits(tokens, LABEL)\n",
        "train_data, valid_data = train_data.split()\n",
        "\n",
        "tokens.build_vocab(train_data, vectors = \"glove.6B.100d\", unk_init = torch.Tensor.normal_)\n",
        "LABEL.build_vocab(train_data)\n",
        "\n",
        "BATCH_SIZE = 40\n",
        "device = torch.device('cuda' if torch.cuda.is_available() else 'cpu')\n",
        "train_iterator, valid_iterator, test_iterator = data.BucketIterator.splits((train_data, valid_data, test_data), batch_size = BATCH_SIZE,sort_within_batch = True, device = device)\n",
        "\n",
        "vocab_size = len(tokens.vocab)\n",
        "embedding_dim = 100\n",
        "hidden_dim = 256\n",
        "output_dim = 1\n",
        "n_layers = 4\n",
        "dropout = 0.5\n",
        "epochs = 15\n",
        "\n",
        "class SeqModel(nn.Module):\n",
        "    def __init__(self):\n",
        "        \n",
        "        super().__init__()\n",
        "        \n",
        "        self.embedding = nn.Embedding(vocab_size, embedding_dim)       \n",
        "        self.rnn = nn.LSTM(embedding_dim, hidden_dim, num_layers=n_layers, bidirectional= True, dropout=dropout)        \n",
        "        self.fc = nn.Linear(hidden_dim * 4, output_dim)       \n",
        "        self.dropout = nn.Dropout(dropout)\n",
        "        \n",
        "    def forward(self, text, embedded_sentence_lengths):\n",
        "        \n",
        "        embedded = self.embedding(text)\n",
        "        (enc_output) = self.rnn(embedded)\n",
        "        all_hidden = enc_output[0]\n",
        "        final_hidden = self.dropout(torch.cat((all_hidden[-2,:,:], all_hidden[-1,:,:]), dim = 1))     \n",
        "        linear_mapped_representation = self.fc(final_hidden)\n",
        "        return linear_mapped_representation\n",
        "\n",
        "model = SeqModel().cuda()\n",
        "\n",
        "pretrained_embeddings = tokens.vocab.vectors\n",
        "model.embedding.weight.data.copy_(pretrained_embeddings)\n",
        "\n",
        "optimizer = optim.Adam(model.parameters())\n",
        "criterion = nn.BCEWithLogitsLoss().cuda()\n",
        "\n",
        "def binary_accuracy(preds, y):\n",
        "    rounded_preds = torch.round(torch.sigmoid(preds))\n",
        "    correct = (rounded_preds == y).float()\n",
        "    acc = correct.sum() / len(correct)\n",
        "    return acc\n",
        "\n",
        "epoch_array = np.arange(1,epochs+1)\n",
        "cost_array = []\n",
        "acc_array = []\n",
        "\n",
        "def train(model, iterator, optimizer, criterion):\n",
        "    \n",
        "    epoch_loss = 0\n",
        "    epoch_acc = 0   \n",
        "    model.train()\n",
        "    for batch in iterator:        \n",
        "        optimizer.zero_grad()\n",
        "        text,text_length = batch.text\n",
        "        predictions = model(text,text_length).squeeze(1)        \n",
        "        loss = criterion(predictions, batch.label)       \n",
        "        acc = binary_accuracy(predictions, batch.label)        \n",
        "        loss.backward()\n",
        "        optimizer.step()        \n",
        "        epoch_loss += loss.item()\n",
        "        epoch_acc += acc.item()\n",
        "    cost_array.append(epoch_loss)\n",
        "    acc_array.append(epoch_acc)\n",
        "    return epoch_loss / len(iterator), epoch_acc / len(iterator)\n",
        "\n",
        "for epoch in range(epochs):\n",
        "  train_loss, train_acc = train(model, train_iterator, optimizer, criterion)\n",
        "  print(f'\\tTrain Loss: {train_loss:.3f} | Train Acc: {train_acc*100:.2f}%')\n",
        "\n",
        "plt.title(\"Loss vs Epochs\")\n",
        "plt.xlabel(\"Epochs\")\n",
        "plt.ylabel(\"Loss\")\n",
        "plt.plot(epoch_array,cost_array)\n",
        "plt.show()\n",
        "\n",
        "plt.title(\"Accuracy vs Epochs\")\n",
        "plt.xlabel(\"Accuracy\")\n",
        "plt.ylabel(\"Loss\")\n",
        "plt.plot(epoch_array,acc_array)\n",
        "plt.show()\n",
        "\n",
        "for batch in valid_iterator:\n",
        "  text,text_length = batch.text\n",
        "  pred = model(text,text_length).squeeze(1)\n",
        "  acc = binary_accuracy(pred,batch.label)\n",
        "print(\"Validation Accuracy: {:.4%}\".format(acc))\n"
      ],
      "execution_count": null,
      "outputs": [
        {
          "output_type": "stream",
          "text": [
            ".vector_cache/glove.6B.zip: 862MB [06:28, 2.22MB/s]                           \n",
            "100%|█████████▉| 398481/400000 [00:29<00:00, 27001.46it/s]"
          ],
          "name": "stderr"
        },
        {
          "output_type": "stream",
          "text": [
            "\tTrain Loss: 0.693 | Train Acc: 52.58%\n",
            "\tTrain Loss: 0.693 | Train Acc: 51.36%\n",
            "\tTrain Loss: 0.689 | Train Acc: 52.95%\n",
            "\tTrain Loss: 0.692 | Train Acc: 51.60%\n",
            "\tTrain Loss: 0.693 | Train Acc: 50.21%\n",
            "\tTrain Loss: 0.691 | Train Acc: 52.40%\n",
            "\tTrain Loss: 0.682 | Train Acc: 57.36%\n",
            "\tTrain Loss: 0.681 | Train Acc: 56.33%\n",
            "\tTrain Loss: 0.682 | Train Acc: 55.93%\n",
            "\tTrain Loss: 0.674 | Train Acc: 59.28%\n",
            "\tTrain Loss: 0.665 | Train Acc: 61.62%\n",
            "\tTrain Loss: 0.650 | Train Acc: 63.67%\n",
            "\tTrain Loss: 0.597 | Train Acc: 70.01%\n",
            "\tTrain Loss: 0.464 | Train Acc: 78.81%\n",
            "\tTrain Loss: 0.379 | Train Acc: 84.39%\n"
          ],
          "name": "stdout"
        },
        {
          "output_type": "display_data",
          "data": {
            "image/png": "[encoded data removed]",
            "text/plain": [
              "<Figure size 432x288 with 1 Axes>"
            ]
          },
          "metadata": {
            "tags": [],
            "needs_background": "light"
          }
        },
        {
          "output_type": "display_data",
          "data": {
            "image/png": "[encoded data removed]",
            "text/plain": [
              "<Figure size 432x288 with 1 Axes>"
            ]
          },
          "metadata": {
            "tags": [],
            "needs_background": "light"
          }
        },
        {
          "output_type": "stream",
          "text": [
            "Validation Accuracy: 70.0000%\n"
          ],
          "name": "stdout"
        }
      ]
    }
  ]
}